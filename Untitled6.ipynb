{
  "nbformat": 4,
  "nbformat_minor": 0,
  "metadata": {
    "colab": {
      "provenance": []
    },
    "kernelspec": {
      "name": "python3",
      "display_name": "Python 3"
    },
    "language_info": {
      "name": "python"
    }
  },
  "cells": [
    {
      "cell_type": "code",
      "source": [
        "!pip install chardet"
      ],
      "metadata": {
        "colab": {
          "base_uri": "https://localhost:8080/"
        },
        "id": "7MfKaFPiXJ8Y",
        "outputId": "9bb45d7e-200b-415d-87cb-83f83c36ce38"
      },
      "execution_count": 13,
      "outputs": [
        {
          "output_type": "stream",
          "name": "stdout",
          "text": [
            "Requirement already satisfied: chardet in /usr/local/lib/python3.10/dist-packages (5.2.0)\n"
          ]
        }
      ]
    },
    {
      "cell_type": "code",
      "source": [
        "import random\n",
        "import csv\n",
        "import chardet\n",
        "\n",
        "# Read lyrics data from your CSV file\n",
        "def read_lyrics_from_csv(csv_file):\n",
        "    with open(csv_file, 'rb') as file:\n",
        "        raw_data = file.read()\n",
        "        encoding = chardet.detect(raw_data)['encoding']\n",
        "        lyrics = raw_data.decode(encoding).split('\\n')\n",
        "    return lyrics\n",
        "\n",
        "# Build a Markov chain dictionary\n",
        "def build_markov_chain(lyrics):\n",
        "    markov_chain = {}\n",
        "    for line in lyrics:\n",
        "        words = line.split()\n",
        "        for i in range(len(words) - 1):\n",
        "            current_word = words[i]\n",
        "            next_word = words[i + 1]\n",
        "            if current_word not in markov_chain:\n",
        "                markov_chain[current_word] = []\n",
        "            markov_chain[current_word].append(next_word)\n",
        "    return markov_chain\n",
        "\n",
        "# Generate lyrics\n",
        "def generate_lyrics(markov_chain, num_lines=50, max_words_per_line=60):\n",
        "    lyrics = []\n",
        "    for _ in range(num_lines):\n",
        "        line = []\n",
        "        current_word = random.choice(list(markov_chain.keys()))\n",
        "        for _ in range(max_words_per_line):\n",
        "            line.append(current_word)\n",
        "            if current_word in markov_chain:\n",
        "                current_word = random.choice(markov_chain[current_word])\n",
        "            else:\n",
        "                break\n",
        "        lyrics.append(\" \".join(line))\n",
        "    return \"\\n\".join(lyrics)\n",
        "\n",
        "# Example usage\n",
        "csv_file_path = '/content/I Ran (So Far Away)'\n",
        "lyrics_data = read_lyrics_from_csv(csv_file_path)\n",
        "markov_model = build_markov_chain(lyrics_data)\n",
        "generated_lyrics = generate_lyrics(markov_model)\n",
        "print(generated_lyrics)\n"
      ],
      "metadata": {
        "colab": {
          "base_uri": "https://localhost:8080/"
        },
        "id": "BwzXd9liWYeC",
        "outputId": "a73a8d15-dbfa-4172-a8ea-373aaa14b1c8"
      },
      "execution_count": 18,
      "outputs": [
        {
          "output_type": "stream",
          "name": "stdout",
          "text": [
            "Publishing Group\n",
            "along the avenue\n",
            "I ran so far away\n",
            "Universal Music Publishing Group\n",
            "The cloud is moving nearer still\n",
            "meet a girl like you\n",
            "my view\n",
            "never thought I’d meet a girl like you\n",
            "hypnotize me through\n",
            "Michael Score, Paul Reynolds Maudsley,\n",
            "in view\n",
            "shining down on you\n",
            "no 3\n",
            "Shining down on you\n",
            "with you\n",
            "never thought I’d meet a beam of light with you\n",
            "thought I’d meet a hand to try again\n",
            "Universal Music Publishing Group\n",
            "Borealis comes in view\n",
            "ran so far away\n",
            "Ran (So Far Away)\n",
            "from my view\n",
            "auburn hair and day\n",
            "above your face\n",
            "Album A cloud is moving nearer still\n",
            "Shining down on you\n",
            "is moving nearer still\n",
            "Name I just ran all night and tawny eyes that hypnotize me through\n",
            "Far Away)\n",
            "down on you\n",
            "like you\n",
            "M. Score, Paul Reynolds Maudsley,\n",
            "Universal Music Publishing Group\n",
            "ran so far away\n",
            "I’m floating in view\n",
            "Year 1982\n",
            "cloud is moving nearer still\n",
            "floating in view\n",
            "Album A Flock of light comes in a girl like you\n",
            "M. Score, Paul Reynolds Maudsley,\n",
            "Alistair M. Score, Paul Reynolds Maudsley,\n",
            "with you\n",
            "auburn hair and day\n",
            "on you\n",
            "Artist A beam of Seagulls\n",
            "appears above your head\n",
            "Far Away)\n",
            "to try again\n",
            "Flock of eyes that hypnotize me through\n",
            "your face\n"
          ]
        }
      ]
    }
  ]
}